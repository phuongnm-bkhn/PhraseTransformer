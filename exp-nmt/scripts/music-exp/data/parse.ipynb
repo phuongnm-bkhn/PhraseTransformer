{
 "cells": [
  {
   "cell_type": "code",
   "execution_count": 1,
   "metadata": {},
   "outputs": [],
   "source": [
    "import pandas as pd "
   ]
  },
  {
   "cell_type": "code",
   "execution_count": 29,
   "metadata": {},
   "outputs": [],
   "source": [
    "for type_data in ['test', 'val', 'train']:\n",
    "    test_data = pd.read_csv(f'JTB_dataset_0707/JTB_{type_data}_full.csv')\n",
    "    data_in = \"\\n\".join([e.replace(\",\", \"\") for e in test_data['input_str']])\n",
    "    with open(f'{type_data}.music_in', 'wt') as f:\n",
    "        f.write(data_in)\n",
    "    data_out = \"\\n\".join([e for e in test_data['label']])\n",
    "    with open(f'{type_data}.music_out', 'wt') as f:\n",
    "        f.write(data_out)"
   ]
  }
 ],
 "metadata": {
  "kernelspec": {
   "display_name": "py36cu11nmt",
   "language": "python",
   "name": "python3"
  },
  "language_info": {
   "codemirror_mode": {
    "name": "ipython",
    "version": 3
   },
   "file_extension": ".py",
   "mimetype": "text/x-python",
   "name": "python",
   "nbconvert_exporter": "python",
   "pygments_lexer": "ipython3",
   "version": "3.8.13"
  },
  "orig_nbformat": 4
 },
 "nbformat": 4,
 "nbformat_minor": 2
}
